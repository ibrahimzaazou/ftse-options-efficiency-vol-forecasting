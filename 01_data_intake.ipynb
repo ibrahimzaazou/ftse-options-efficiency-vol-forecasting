{
 "cells": [
  {
   "cell_type": "code",
   "execution_count": 2,
   "id": "0f6ad598-83eb-4473-8a45-9b325d6ce6f6",
   "metadata": {},
   "outputs": [
    {
     "name": "stderr",
     "output_type": "stream",
     "text": [
      "C:\\Users\\biboz\\AppData\\Local\\Temp\\ipykernel_12568\\1716517719.py:5: FutureWarning: YF.download() has changed argument auto_adjust default to True\n",
      "  data = yf.download(\"^FTSE\", start=\"2023-01-01\", end=\"2024-12-31\")\n",
      "[*********************100%***********************]  1 of 1 completed\n"
     ]
    },
    {
     "data": {
      "text/html": [
       "<div>\n",
       "<style scoped>\n",
       "    .dataframe tbody tr th:only-of-type {\n",
       "        vertical-align: middle;\n",
       "    }\n",
       "\n",
       "    .dataframe tbody tr th {\n",
       "        vertical-align: top;\n",
       "    }\n",
       "\n",
       "    .dataframe thead tr th {\n",
       "        text-align: left;\n",
       "    }\n",
       "\n",
       "    .dataframe thead tr:last-of-type th {\n",
       "        text-align: right;\n",
       "    }\n",
       "</style>\n",
       "<table border=\"1\" class=\"dataframe\">\n",
       "  <thead>\n",
       "    <tr>\n",
       "      <th>Price</th>\n",
       "      <th>Close</th>\n",
       "      <th>High</th>\n",
       "      <th>Low</th>\n",
       "      <th>Open</th>\n",
       "      <th>Volume</th>\n",
       "    </tr>\n",
       "    <tr>\n",
       "      <th>Ticker</th>\n",
       "      <th>^FTSE</th>\n",
       "      <th>^FTSE</th>\n",
       "      <th>^FTSE</th>\n",
       "      <th>^FTSE</th>\n",
       "      <th>^FTSE</th>\n",
       "    </tr>\n",
       "    <tr>\n",
       "      <th>Date</th>\n",
       "      <th></th>\n",
       "      <th></th>\n",
       "      <th></th>\n",
       "      <th></th>\n",
       "      <th></th>\n",
       "    </tr>\n",
       "  </thead>\n",
       "  <tbody>\n",
       "    <tr>\n",
       "      <th>2023-01-03</th>\n",
       "      <td>7554.100098</td>\n",
       "      <td>7626.399902</td>\n",
       "      <td>7448.700195</td>\n",
       "      <td>7451.700195</td>\n",
       "      <td>914070400</td>\n",
       "    </tr>\n",
       "    <tr>\n",
       "      <th>2023-01-04</th>\n",
       "      <td>7585.200195</td>\n",
       "      <td>7609.299805</td>\n",
       "      <td>7545.200195</td>\n",
       "      <td>7554.100098</td>\n",
       "      <td>753877000</td>\n",
       "    </tr>\n",
       "    <tr>\n",
       "      <th>2023-01-05</th>\n",
       "      <td>7633.500000</td>\n",
       "      <td>7658.799805</td>\n",
       "      <td>7564.700195</td>\n",
       "      <td>7585.200195</td>\n",
       "      <td>883850800</td>\n",
       "    </tr>\n",
       "    <tr>\n",
       "      <th>2023-01-06</th>\n",
       "      <td>7699.500000</td>\n",
       "      <td>7700.799805</td>\n",
       "      <td>7633.500000</td>\n",
       "      <td>7633.500000</td>\n",
       "      <td>813538800</td>\n",
       "    </tr>\n",
       "    <tr>\n",
       "      <th>2023-01-09</th>\n",
       "      <td>7724.899902</td>\n",
       "      <td>7725.700195</td>\n",
       "      <td>7688.700195</td>\n",
       "      <td>7699.500000</td>\n",
       "      <td>847858600</td>\n",
       "    </tr>\n",
       "  </tbody>\n",
       "</table>\n",
       "</div>"
      ],
      "text/plain": [
       "Price             Close         High          Low         Open     Volume\n",
       "Ticker            ^FTSE        ^FTSE        ^FTSE        ^FTSE      ^FTSE\n",
       "Date                                                                     \n",
       "2023-01-03  7554.100098  7626.399902  7448.700195  7451.700195  914070400\n",
       "2023-01-04  7585.200195  7609.299805  7545.200195  7554.100098  753877000\n",
       "2023-01-05  7633.500000  7658.799805  7564.700195  7585.200195  883850800\n",
       "2023-01-06  7699.500000  7700.799805  7633.500000  7633.500000  813538800\n",
       "2023-01-09  7724.899902  7725.700195  7688.700195  7699.500000  847858600"
      ]
     },
     "execution_count": 2,
     "metadata": {},
     "output_type": "execute_result"
    }
   ],
   "source": [
    "import numpy as np\n",
    "import pandas as pd\n",
    "import yfinance as yf\n",
    "\n",
    "data = yf.download(\"^FTSE\", start=\"2023-01-01\", end=\"2024-12-31\")\n",
    "data.head()\n"
   ]
  },
  {
   "cell_type": "code",
   "execution_count": null,
   "id": "dd484354-daed-4d30-af6e-9571a7648613",
   "metadata": {},
   "outputs": [],
   "source": []
  }
 ],
 "metadata": {
  "kernelspec": {
   "display_name": "Python (ftseopt 3.11)",
   "language": "python",
   "name": "ftseopt311"
  },
  "language_info": {
   "codemirror_mode": {
    "name": "ipython",
    "version": 3
   },
   "file_extension": ".py",
   "mimetype": "text/x-python",
   "name": "python",
   "nbconvert_exporter": "python",
   "pygments_lexer": "ipython3",
   "version": "3.11.0"
  }
 },
 "nbformat": 4,
 "nbformat_minor": 5
}
