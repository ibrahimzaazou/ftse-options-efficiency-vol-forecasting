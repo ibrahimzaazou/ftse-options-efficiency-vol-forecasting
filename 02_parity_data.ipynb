{
 "cells": [
  {
   "cell_type": "code",
   "execution_count": 2,
   "id": "c5c666ff-6abe-4479-89ce-b8321d5b23bf",
   "metadata": {},
   "outputs": [],
   "source": [
    "from datetime import datetime, date\n",
    "import numpy as np\n",
    "import pandas as pd\n",
    "import yfinance as yf\n",
    "from pathlib import Path\n",
    "\n",
    "# project paths\n",
    "DATA_RAW = Path(\"data/raw\")\n",
    "DATA_PROC = Path(\"data/processed\")\n",
    "DATA_RAW.mkdir(parents=True, exist_ok=True)\n",
    "DATA_PROC.mkdir(parents=True, exist_ok=True)\n",
    "\n",
    "TODAY_STR = pd.Timestamp.today().strftime(\"%Y-%m-%d\")\n",
    "TODAY = pd.Timestamp.today().normalize()\n",
    "TRADING_DAYS_PER_YEAR = 252  # for later use\n",
    "\n"
   ]
  },
  {
   "cell_type": "code",
   "execution_count": 3,
   "id": "98e4eb1b-db03-47d8-9c19-8ebed2cfafa0",
   "metadata": {},
   "outputs": [
    {
     "data": {
      "text/plain": [
       "('EWU', ('2025-10-17', '2025-11-21', '2026-01-16', '2026-04-17'))"
      ]
     },
     "execution_count": 3,
     "metadata": {},
     "output_type": "execute_result"
    }
   ],
   "source": [
    "candidates = [\"^FTSE\", \"ISF.L\", \"EWU\"]  # index, UK ETF (London), UK ETF (US)\n",
    "picked = None\n",
    "for sym in candidates:\n",
    "    try:\n",
    "        tk = yf.Ticker(sym)\n",
    "        exps = tk.options\n",
    "        if exps and len(exps) > 0:\n",
    "            picked = sym\n",
    "            break\n",
    "    except Exception as e:\n",
    "        pass\n",
    "\n",
    "if picked is None:\n",
    "    raise RuntimeError(\"No option chains found on Yahoo for the FTSE candidates.\")\n",
    "\n",
    "picked, yf.Ticker(picked).options[:5]  # show first few expiries\n"
   ]
  },
  {
   "cell_type": "code",
   "execution_count": 4,
   "id": "5b494554-02a9-4c86-9a06-6a0713d2f280",
   "metadata": {},
   "outputs": [
    {
     "data": {
      "text/plain": [
       "(8, ['2025-10-17', '2025-11-21', '2026-01-16', '2026-04-17'])"
      ]
     },
     "execution_count": 4,
     "metadata": {},
     "output_type": "execute_result"
    }
   ],
   "source": [
    "tk = yf.Ticker(picked)\n",
    "expiries = tk.options\n",
    "expiries = sorted(expiries)[:4]  # take first ~4 near-dated expiries\n",
    "\n",
    "def fetch_chain(symbol, expiry):\n",
    "    chain = tk.option_chain(expiry)\n",
    "    calls = chain.calls.copy()\n",
    "    puts  = chain.puts.copy()\n",
    "    calls[\"option_type\"] = \"call\"\n",
    "    puts[\"option_type\"]  = \"put\"\n",
    "    calls[\"expiry\"] = pd.to_datetime(expiry)\n",
    "    puts[\"expiry\"]  = pd.to_datetime(expiry)\n",
    "    return calls, puts\n",
    "\n",
    "frames = []\n",
    "for ex in expiries:\n",
    "    c, p = fetch_chain(picked, ex)\n",
    "    frames.append((\"calls\", c))\n",
    "    frames.append((\"puts\", p))\n",
    "\n",
    "len(frames), expiries\n"
   ]
  },
  {
   "cell_type": "code",
   "execution_count": 5,
   "id": "921fcd7f-f9f4-4efd-9388-015c4979f873",
   "metadata": {},
   "outputs": [
    {
     "data": {
      "text/html": [
       "<div>\n",
       "<style scoped>\n",
       "    .dataframe tbody tr th:only-of-type {\n",
       "        vertical-align: middle;\n",
       "    }\n",
       "\n",
       "    .dataframe tbody tr th {\n",
       "        vertical-align: top;\n",
       "    }\n",
       "\n",
       "    .dataframe thead th {\n",
       "        text-align: right;\n",
       "    }\n",
       "</style>\n",
       "<table border=\"1\" class=\"dataframe\">\n",
       "  <thead>\n",
       "    <tr style=\"text-align: right;\">\n",
       "      <th></th>\n",
       "      <th>contractSymbol</th>\n",
       "      <th>last</th>\n",
       "      <th>bid</th>\n",
       "      <th>ask</th>\n",
       "      <th>change</th>\n",
       "      <th>percentChange</th>\n",
       "      <th>volume</th>\n",
       "      <th>oi</th>\n",
       "      <th>iv</th>\n",
       "      <th>strike</th>\n",
       "      <th>expiry</th>\n",
       "      <th>option_type</th>\n",
       "      <th>mid</th>\n",
       "      <th>spread</th>\n",
       "      <th>symbol</th>\n",
       "      <th>trade_date</th>\n",
       "    </tr>\n",
       "  </thead>\n",
       "  <tbody>\n",
       "    <tr>\n",
       "      <th>0</th>\n",
       "      <td>EWU251017C00036000</td>\n",
       "      <td>4.36</td>\n",
       "      <td>5.2</td>\n",
       "      <td>6.2</td>\n",
       "      <td>0.0</td>\n",
       "      <td>0.0</td>\n",
       "      <td>5.0</td>\n",
       "      <td>7</td>\n",
       "      <td>1.255863</td>\n",
       "      <td>36.0</td>\n",
       "      <td>2025-10-17</td>\n",
       "      <td>call</td>\n",
       "      <td>5.7</td>\n",
       "      <td>1.0</td>\n",
       "      <td>EWU</td>\n",
       "      <td>2025-10-13</td>\n",
       "    </tr>\n",
       "    <tr>\n",
       "      <th>1</th>\n",
       "      <td>EWU251017C00037000</td>\n",
       "      <td>5.00</td>\n",
       "      <td>0.0</td>\n",
       "      <td>0.0</td>\n",
       "      <td>0.0</td>\n",
       "      <td>0.0</td>\n",
       "      <td>5.0</td>\n",
       "      <td>84</td>\n",
       "      <td>0.000010</td>\n",
       "      <td>37.0</td>\n",
       "      <td>2025-10-17</td>\n",
       "      <td>call</td>\n",
       "      <td>0.0</td>\n",
       "      <td>0.0</td>\n",
       "      <td>EWU</td>\n",
       "      <td>2025-10-13</td>\n",
       "    </tr>\n",
       "    <tr>\n",
       "      <th>2</th>\n",
       "      <td>EWU251017C00038000</td>\n",
       "      <td>4.68</td>\n",
       "      <td>0.0</td>\n",
       "      <td>0.0</td>\n",
       "      <td>0.0</td>\n",
       "      <td>0.0</td>\n",
       "      <td>2.0</td>\n",
       "      <td>21</td>\n",
       "      <td>0.000010</td>\n",
       "      <td>38.0</td>\n",
       "      <td>2025-10-17</td>\n",
       "      <td>call</td>\n",
       "      <td>0.0</td>\n",
       "      <td>0.0</td>\n",
       "      <td>EWU</td>\n",
       "      <td>2025-10-13</td>\n",
       "    </tr>\n",
       "    <tr>\n",
       "      <th>3</th>\n",
       "      <td>EWU251017C00039000</td>\n",
       "      <td>3.58</td>\n",
       "      <td>0.0</td>\n",
       "      <td>0.0</td>\n",
       "      <td>0.0</td>\n",
       "      <td>0.0</td>\n",
       "      <td>2.0</td>\n",
       "      <td>75</td>\n",
       "      <td>0.000010</td>\n",
       "      <td>39.0</td>\n",
       "      <td>2025-10-17</td>\n",
       "      <td>call</td>\n",
       "      <td>0.0</td>\n",
       "      <td>0.0</td>\n",
       "      <td>EWU</td>\n",
       "      <td>2025-10-13</td>\n",
       "    </tr>\n",
       "    <tr>\n",
       "      <th>4</th>\n",
       "      <td>EWU251017C00040000</td>\n",
       "      <td>2.45</td>\n",
       "      <td>0.0</td>\n",
       "      <td>0.0</td>\n",
       "      <td>0.0</td>\n",
       "      <td>0.0</td>\n",
       "      <td>4.0</td>\n",
       "      <td>1530</td>\n",
       "      <td>0.000010</td>\n",
       "      <td>40.0</td>\n",
       "      <td>2025-10-17</td>\n",
       "      <td>call</td>\n",
       "      <td>0.0</td>\n",
       "      <td>0.0</td>\n",
       "      <td>EWU</td>\n",
       "      <td>2025-10-13</td>\n",
       "    </tr>\n",
       "  </tbody>\n",
       "</table>\n",
       "</div>"
      ],
      "text/plain": [
       "       contractSymbol  last  bid  ask  change  percentChange  volume    oi  \\\n",
       "0  EWU251017C00036000  4.36  5.2  6.2     0.0            0.0     5.0     7   \n",
       "1  EWU251017C00037000  5.00  0.0  0.0     0.0            0.0     5.0    84   \n",
       "2  EWU251017C00038000  4.68  0.0  0.0     0.0            0.0     2.0    21   \n",
       "3  EWU251017C00039000  3.58  0.0  0.0     0.0            0.0     2.0    75   \n",
       "4  EWU251017C00040000  2.45  0.0  0.0     0.0            0.0     4.0  1530   \n",
       "\n",
       "         iv  strike     expiry option_type  mid  spread symbol trade_date  \n",
       "0  1.255863    36.0 2025-10-17        call  5.7     1.0    EWU 2025-10-13  \n",
       "1  0.000010    37.0 2025-10-17        call  0.0     0.0    EWU 2025-10-13  \n",
       "2  0.000010    38.0 2025-10-17        call  0.0     0.0    EWU 2025-10-13  \n",
       "3  0.000010    39.0 2025-10-17        call  0.0     0.0    EWU 2025-10-13  \n",
       "4  0.000010    40.0 2025-10-17        call  0.0     0.0    EWU 2025-10-13  "
      ]
     },
     "execution_count": 5,
     "metadata": {},
     "output_type": "execute_result"
    }
   ],
   "source": [
    "def tidy(df, symbol):\n",
    "    keep = [\"contractSymbol\",\"lastPrice\",\"bid\",\"ask\",\"change\",\"percentChange\",\n",
    "            \"volume\",\"openInterest\",\"impliedVolatility\",\"strike\",\"expiry\",\"option_type\"]\n",
    "    df = df[keep].copy()\n",
    "    df.rename(columns={\n",
    "        \"lastPrice\":\"last\",\n",
    "        \"openInterest\":\"oi\",\n",
    "        \"impliedVolatility\":\"iv\"\n",
    "    }, inplace=True)\n",
    "    df[\"mid\"] = (df[\"bid\"].fillna(0) + df[\"ask\"].fillna(0)) / 2\n",
    "    df[\"spread\"] = (df[\"ask\"] - df[\"bid\"]).abs()\n",
    "    df[\"symbol\"] = symbol\n",
    "    df[\"trade_date\"] = TODAY\n",
    "    return df\n",
    "\n",
    "tidied = []\n",
    "for kind, df in frames:\n",
    "    tidied.append(tidy(df, picked))\n",
    "\n",
    "opt = pd.concat(tidied, ignore_index=True)\n",
    "opt.head()\n"
   ]
  },
  {
   "cell_type": "code",
   "execution_count": 6,
   "id": "09498c83-fc8b-44a6-bde7-cdebf8ddbcd5",
   "metadata": {},
   "outputs": [
    {
     "data": {
      "text/plain": [
       "(21,\n",
       "         contractSymbol  last   bid   ask  change  percentChange  volume  oi  \\\n",
       " 9   EWU251017P00027000  0.53  0.05  0.20     0.0            0.0     NaN  20   \n",
       " 10  EWU251017P00028000  0.30  0.00  0.15     0.0            0.0     1.0  21   \n",
       " 11  EWU251017P00030000  0.05  0.00  0.75     0.0            0.0     2.0  40   \n",
       " \n",
       "           iv  strike     expiry option_type    mid  spread symbol trade_date  \\\n",
       " 9   2.097661    27.0 2025-10-17         put  0.125    0.15    EWU 2025-10-13   \n",
       " 10  1.781251    28.0 2025-10-17         put  0.075    0.15    EWU 2025-10-13   \n",
       " 11  2.123052    30.0 2025-10-17         put  0.375    0.75    EWU 2025-10-13   \n",
       " \n",
       "         S  T_days         T  \n",
       " 9   41.73       4  0.010959  \n",
       " 10  41.73       4  0.010959  \n",
       " 11  41.73       4  0.010959  )"
      ]
     },
     "execution_count": 6,
     "metadata": {},
     "output_type": "execute_result"
    }
   ],
   "source": [
    "# Robust spot fetch for single or multi-index columns\n",
    "hist = yf.download(picked, period=\"5d\", auto_adjust=True, progress=False)\n",
    "\n",
    "if isinstance(hist.columns, pd.MultiIndex):\n",
    "    # level 0 like: ('Close', 'High', ...)  level 1: ticker\n",
    "    close = hist['Close']\n",
    "    if picked in close.columns:\n",
    "        spot = close[picked].iloc[-1]\n",
    "    else:\n",
    "        # sometimes the column name differs slightly; squeeze to a Series\n",
    "        spot = close.iloc[-1].squeeze()\n",
    "else:\n",
    "    # normal single-index columns\n",
    "    spot = hist['Close'].iloc[-1]\n",
    "\n",
    "spot = float(spot)   # ensure plain Python float\n",
    "opt['S'] = spot\n",
    "\n",
    "\n",
    "# Time to maturity in years (ACT/365)\n",
    "opt[\"T_days\"] = (opt[\"expiry\"].dt.normalize() - TODAY).dt.days.clip(lower=0)\n",
    "opt[\"T\"] = opt[\"T_days\"] / 365.0\n",
    "\n",
    "# Basic filters (liquidity & sanity)\n",
    "opt = opt[(opt[\"bid\"].notna()) & (opt[\"ask\"].notna())]\n",
    "opt = opt[(opt[\"oi\"].fillna(0) >= 10)]                 # tweak threshold if thin\n",
    "opt = opt[(opt[\"spread\"] >= 0)]                        # no negatives\n",
    "opt = opt[(opt[\"mid\"] > 0)]                            # price must be positive\n",
    "opt = opt[(opt[\"T_days\"] >= 3)]                        # avoid very near expiry noise\n",
    "\n",
    "len(opt), opt.head(3)\n"
   ]
  },
  {
   "cell_type": "code",
   "execution_count": 7,
   "id": "a60011ac-3c20-472d-b293-1bdaf409f496",
   "metadata": {},
   "outputs": [
    {
     "data": {
      "text/plain": [
       "(0,\n",
       " Empty DataFrame\n",
       " Columns: [contractSymbol_c, last_c, bid_c, ask_c, change_c, percentChange_c, volume_c, oi_c, iv_c, strike, expiry, option_type_c, mid_c, spread_c, symbol, trade_date, S, T_days, T, moneyness_c, ln_moneyness_c, contractSymbol_p, last_p, bid_p, ask_p, change_p, percentChange_p, volume_p, oi_p, iv_p, option_type_p, mid_p, spread_p, moneyness_p, ln_moneyness_p]\n",
       " Index: []\n",
       " \n",
       " [0 rows x 35 columns])"
      ]
     },
     "execution_count": 7,
     "metadata": {},
     "output_type": "execute_result"
    }
   ],
   "source": [
    "opt[\"moneyness\"] = opt[\"strike\"] / opt[\"S\"]\n",
    "opt[\"ln_moneyness\"] = np.log(opt[\"moneyness\"])\n",
    "\n",
    "calls = opt[opt[\"option_type\"]==\"call\"].copy()\n",
    "puts  = opt[opt[\"option_type\"]==\"put\"].copy()\n",
    "\n",
    "pairs = pd.merge(\n",
    "    calls, \n",
    "    puts, \n",
    "    on=[\"symbol\",\"expiry\",\"strike\",\"trade_date\",\"S\",\"T\",\"T_days\"],\n",
    "    suffixes=(\"_c\",\"_p\"),\n",
    "    how=\"inner\"\n",
    ")\n",
    "\n",
    "len(pairs), pairs.head(3)\n"
   ]
  },
  {
   "cell_type": "code",
   "execution_count": 10,
   "id": "e7739c35-6c8b-4317-8f9d-79321d8ad2c8",
   "metadata": {},
   "outputs": [
    {
     "name": "stdout",
     "output_type": "stream",
     "text": [
      "Collecting pyarrow\n",
      "  Downloading pyarrow-21.0.0-cp311-cp311-win_amd64.whl.metadata (3.4 kB)\n",
      "Downloading pyarrow-21.0.0-cp311-cp311-win_amd64.whl (26.2 MB)\n",
      "   ---------------------------------------- 0.0/26.2 MB ? eta -:--:--\n",
      "   - -------------------------------------- 0.8/26.2 MB 4.8 MB/s eta 0:00:06\n",
      "   -- ------------------------------------- 1.6/26.2 MB 4.4 MB/s eta 0:00:06\n",
      "   --- ------------------------------------ 2.6/26.2 MB 4.4 MB/s eta 0:00:06\n",
      "   ----- ---------------------------------- 3.4/26.2 MB 4.3 MB/s eta 0:00:06\n",
      "   ------ --------------------------------- 4.2/26.2 MB 4.3 MB/s eta 0:00:06\n",
      "   ------- -------------------------------- 5.2/26.2 MB 4.3 MB/s eta 0:00:05\n",
      "   --------- ------------------------------ 6.0/26.2 MB 4.3 MB/s eta 0:00:05\n",
      "   ---------- ----------------------------- 6.8/26.2 MB 4.3 MB/s eta 0:00:05\n",
      "   ----------- ---------------------------- 7.9/26.2 MB 4.3 MB/s eta 0:00:05\n",
      "   ------------- -------------------------- 8.7/26.2 MB 4.3 MB/s eta 0:00:05\n",
      "   -------------- ------------------------- 9.7/26.2 MB 4.3 MB/s eta 0:00:04\n",
      "   --------------- ------------------------ 10.5/26.2 MB 4.3 MB/s eta 0:00:04\n",
      "   ----------------- ---------------------- 11.3/26.2 MB 4.3 MB/s eta 0:00:04\n",
      "   ------------------ --------------------- 12.3/26.2 MB 4.3 MB/s eta 0:00:04\n",
      "   ------------------- -------------------- 13.1/26.2 MB 4.3 MB/s eta 0:00:04\n",
      "   --------------------- ------------------ 14.2/26.2 MB 4.3 MB/s eta 0:00:03\n",
      "   ---------------------- ----------------- 14.9/26.2 MB 4.3 MB/s eta 0:00:03\n",
      "   ------------------------ --------------- 16.0/26.2 MB 4.4 MB/s eta 0:00:03\n",
      "   ------------------------- -------------- 16.8/26.2 MB 4.3 MB/s eta 0:00:03\n",
      "   --------------------------- ------------ 17.8/26.2 MB 4.4 MB/s eta 0:00:02\n",
      "   ---------------------------- ----------- 18.6/26.2 MB 4.4 MB/s eta 0:00:02\n",
      "   ----------------------------- ---------- 19.7/26.2 MB 4.4 MB/s eta 0:00:02\n",
      "   ------------------------------- -------- 20.4/26.2 MB 4.4 MB/s eta 0:00:02\n",
      "   -------------------------------- ------- 21.5/26.2 MB 4.4 MB/s eta 0:00:02\n",
      "   --------------------------------- ------ 22.3/26.2 MB 4.4 MB/s eta 0:00:01\n",
      "   ----------------------------------- ---- 23.3/26.2 MB 4.4 MB/s eta 0:00:01\n",
      "   ------------------------------------ --- 24.1/26.2 MB 4.4 MB/s eta 0:00:01\n",
      "   -------------------------------------- - 25.2/26.2 MB 4.4 MB/s eta 0:00:01\n",
      "   ---------------------------------------  26.0/26.2 MB 4.4 MB/s eta 0:00:01\n",
      "   ---------------------------------------- 26.2/26.2 MB 4.3 MB/s  0:00:06\n",
      "Installing collected packages: pyarrow\n",
      "Successfully installed pyarrow-21.0.0\n",
      "Note: you may need to restart the kernel to use updated packages.\n"
     ]
    }
   ],
   "source": [
    "%pip install pyarrow\n"
   ]
  },
  {
   "cell_type": "code",
   "execution_count": 8,
   "id": "dc789ba9-0a06-4438-b3cc-e37b57f9aa3d",
   "metadata": {},
   "outputs": [
    {
     "name": "stdout",
     "output_type": "stream",
     "text": [
      "Raw saved: True | Proc saved: True\n"
     ]
    }
   ],
   "source": [
    "raw_path = DATA_RAW / f\"option_chain_{picked}_{TODAY_STR}.parquet\"\n",
    "opt.to_parquet(raw_path, index=False, engine=\"pyarrow\")\n",
    "\n",
    "proc_path = DATA_PROC / f\"pairs_{picked}_{TODAY_STR}.parquet\"\n",
    "pairs.to_parquet(proc_path, index=False, engine=\"pyarrow\")\n",
    "\n",
    "print(\"Raw saved:\", raw_path.exists(), \"| Proc saved:\", proc_path.exists())\n"
   ]
  },
  {
   "cell_type": "code",
   "execution_count": 9,
   "id": "37eb20e4-6d09-4bd1-b21d-9a3a63ba04af",
   "metadata": {},
   "outputs": [],
   "source": [
    "# checks"
   ]
  },
  {
   "cell_type": "code",
   "execution_count": 10,
   "id": "08e2d51f-cd64-4a1a-b34c-a73227344615",
   "metadata": {},
   "outputs": [
    {
     "name": "stdout",
     "output_type": "stream",
     "text": [
      "rows raw: 21 | rows pairs: 0\n"
     ]
    },
    {
     "ename": "AssertionError",
     "evalue": "No data!",
     "output_type": "error",
     "traceback": [
      "\u001b[31m---------------------------------------------------------------------------\u001b[39m",
      "\u001b[31mAssertionError\u001b[39m                            Traceback (most recent call last)",
      "\u001b[36mCell\u001b[39m\u001b[36m \u001b[39m\u001b[32mIn[10]\u001b[39m\u001b[32m, line 11\u001b[39m\n\u001b[32m      8\u001b[39m pairs = pd.read_parquet(proc_path, engine=\u001b[33m\"\u001b[39m\u001b[33mpyarrow\u001b[39m\u001b[33m\"\u001b[39m)\n\u001b[32m     10\u001b[39m \u001b[38;5;28mprint\u001b[39m(\u001b[33m\"\u001b[39m\u001b[33mrows raw:\u001b[39m\u001b[33m\"\u001b[39m, \u001b[38;5;28mlen\u001b[39m(opt), \u001b[33m\"\u001b[39m\u001b[33m| rows pairs:\u001b[39m\u001b[33m\"\u001b[39m, \u001b[38;5;28mlen\u001b[39m(pairs))\n\u001b[32m---> \u001b[39m\u001b[32m11\u001b[39m \u001b[38;5;28;01massert\u001b[39;00m \u001b[38;5;28mlen\u001b[39m(opt)>\u001b[32m0\u001b[39m \u001b[38;5;129;01mand\u001b[39;00m \u001b[38;5;28mlen\u001b[39m(pairs)>\u001b[32m0\u001b[39m, \u001b[33m\"\u001b[39m\u001b[33mNo data!\u001b[39m\u001b[33m\"\u001b[39m\n",
      "\u001b[31mAssertionError\u001b[39m: No data!"
     ]
    }
   ],
   "source": [
    "import pandas as pd, numpy as np\n",
    "from pathlib import Path\n",
    "\n",
    "raw_path  = Path(\"data/raw\").glob(\"option_chain_*\").__iter__().__next__()\n",
    "proc_path = Path(\"data/processed\").glob(\"pairs_*\").__iter__().__next__()\n",
    "\n",
    "opt   = pd.read_parquet(raw_path, engine=\"pyarrow\")\n",
    "pairs = pd.read_parquet(proc_path, engine=\"pyarrow\")\n",
    "\n",
    "print(\"rows raw:\", len(opt), \"| rows pairs:\", len(pairs))\n",
    "assert len(opt)>0 and len(pairs)>0, \"No data!\"\n"
   ]
  },
  {
   "cell_type": "code",
   "execution_count": 11,
   "id": "5c491ebd-618c-43ce-a95d-cc80ab4fc0e4",
   "metadata": {},
   "outputs": [
    {
     "data": {
      "text/html": [
       "<div>\n",
       "<style scoped>\n",
       "    .dataframe tbody tr th:only-of-type {\n",
       "        vertical-align: middle;\n",
       "    }\n",
       "\n",
       "    .dataframe tbody tr th {\n",
       "        vertical-align: top;\n",
       "    }\n",
       "\n",
       "    .dataframe thead th {\n",
       "        text-align: right;\n",
       "    }\n",
       "</style>\n",
       "<table border=\"1\" class=\"dataframe\">\n",
       "  <thead>\n",
       "    <tr style=\"text-align: right;\">\n",
       "      <th></th>\n",
       "      <th>contractSymbol_c</th>\n",
       "      <th>last_c</th>\n",
       "      <th>bid_c</th>\n",
       "      <th>ask_c</th>\n",
       "      <th>change_c</th>\n",
       "      <th>percentChange_c</th>\n",
       "      <th>volume_c</th>\n",
       "      <th>oi_c</th>\n",
       "      <th>iv_c</th>\n",
       "      <th>strike</th>\n",
       "      <th>...</th>\n",
       "      <th>change_p</th>\n",
       "      <th>percentChange_p</th>\n",
       "      <th>volume_p</th>\n",
       "      <th>oi_p</th>\n",
       "      <th>iv_p</th>\n",
       "      <th>option_type_p</th>\n",
       "      <th>mid_p</th>\n",
       "      <th>spread_p</th>\n",
       "      <th>moneyness_p</th>\n",
       "      <th>ln_moneyness_p</th>\n",
       "    </tr>\n",
       "  </thead>\n",
       "  <tbody>\n",
       "  </tbody>\n",
       "</table>\n",
       "<p>0 rows × 35 columns</p>\n",
       "</div>"
      ],
      "text/plain": [
       "Empty DataFrame\n",
       "Columns: [contractSymbol_c, last_c, bid_c, ask_c, change_c, percentChange_c, volume_c, oi_c, iv_c, strike, expiry, option_type_c, mid_c, spread_c, symbol, trade_date, S, T_days, T, moneyness_c, ln_moneyness_c, contractSymbol_p, last_p, bid_p, ask_p, change_p, percentChange_p, volume_p, oi_p, iv_p, option_type_p, mid_p, spread_p, moneyness_p, ln_moneyness_p]\n",
       "Index: []\n",
       "\n",
       "[0 rows x 35 columns]"
      ]
     },
     "execution_count": 11,
     "metadata": {},
     "output_type": "execute_result"
    }
   ],
   "source": [
    "pairs.head()"
   ]
  },
  {
   "cell_type": "code",
   "execution_count": 12,
   "id": "1ad0bcfd-3d78-4945-9d2a-273ddd0e2e7a",
   "metadata": {},
   "outputs": [
    {
     "name": "stdout",
     "output_type": "stream",
     "text": [
      "Picked: EWU\n"
     ]
    },
    {
     "data": {
      "text/plain": [
       "option_type\n",
       "put     13\n",
       "call     8\n",
       "Name: count, dtype: int64"
      ]
     },
     "metadata": {},
     "output_type": "display_data"
    },
    {
     "data": {
      "text/html": [
       "<div>\n",
       "<style scoped>\n",
       "    .dataframe tbody tr th:only-of-type {\n",
       "        vertical-align: middle;\n",
       "    }\n",
       "\n",
       "    .dataframe tbody tr th {\n",
       "        vertical-align: top;\n",
       "    }\n",
       "\n",
       "    .dataframe thead th {\n",
       "        text-align: right;\n",
       "    }\n",
       "</style>\n",
       "<table border=\"1\" class=\"dataframe\">\n",
       "  <thead>\n",
       "    <tr style=\"text-align: right;\">\n",
       "      <th>option_type</th>\n",
       "      <th>call</th>\n",
       "      <th>put</th>\n",
       "    </tr>\n",
       "    <tr>\n",
       "      <th>expiry</th>\n",
       "      <th></th>\n",
       "      <th></th>\n",
       "    </tr>\n",
       "  </thead>\n",
       "  <tbody>\n",
       "    <tr>\n",
       "      <th>2025-10-17</th>\n",
       "      <td>0</td>\n",
       "      <td>9</td>\n",
       "    </tr>\n",
       "    <tr>\n",
       "      <th>2026-01-16</th>\n",
       "      <td>8</td>\n",
       "      <td>4</td>\n",
       "    </tr>\n",
       "  </tbody>\n",
       "</table>\n",
       "</div>"
      ],
      "text/plain": [
       "option_type  call  put\n",
       "expiry                \n",
       "2025-10-17      0    9\n",
       "2026-01-16      8    4"
      ]
     },
     "metadata": {},
     "output_type": "display_data"
    }
   ],
   "source": [
    "print(\"Picked:\", picked)\n",
    "display(opt[\"option_type\"].value_counts())\n",
    "display(opt.groupby([\"expiry\",\"option_type\"]).size().unstack(fill_value=0))\n"
   ]
  },
  {
   "cell_type": "code",
   "execution_count": 13,
   "id": "bf25c1a7-c779-4354-9882-f37c2eface4a",
   "metadata": {},
   "outputs": [
    {
     "name": "stdout",
     "output_type": "stream",
     "text": [
      "Unique strikes by type:\n",
      "CALLS: [np.float64(31.0), np.float64(32.0), np.float64(33.0), np.float64(34.0), np.float64(35.0), np.float64(36.0), np.float64(38.0), np.float64(46.0)]\n",
      "PUTS : [np.float64(22.0), np.float64(26.0), np.float64(29.0), np.float64(30.0)]\n"
     ]
    }
   ],
   "source": [
    "expiry_check = pd.Timestamp(\"2026-01-16\")\n",
    "subset = opt[opt[\"expiry\"] == expiry_check]\n",
    "\n",
    "print(\"Unique strikes by type:\")\n",
    "print(\"CALLS:\", sorted(subset.loc[subset[\"option_type\"]==\"call\", \"strike\"].unique()))\n",
    "print(\"PUTS :\", sorted(subset.loc[subset[\"option_type\"]==\"put\", \"strike\"].unique()))\n"
   ]
  },
  {
   "cell_type": "code",
   "execution_count": 15,
   "id": "c6416fef-bc62-481c-b433-df6bc9724165",
   "metadata": {},
   "outputs": [
    {
     "name": "stdout",
     "output_type": "stream",
     "text": [
      "Pairs within ±1 strike: 1\n"
     ]
    },
    {
     "data": {
      "text/html": [
       "<div>\n",
       "<style scoped>\n",
       "    .dataframe tbody tr th:only-of-type {\n",
       "        vertical-align: middle;\n",
       "    }\n",
       "\n",
       "    .dataframe tbody tr th {\n",
       "        vertical-align: top;\n",
       "    }\n",
       "\n",
       "    .dataframe thead th {\n",
       "        text-align: right;\n",
       "    }\n",
       "</style>\n",
       "<table border=\"1\" class=\"dataframe\">\n",
       "  <thead>\n",
       "    <tr style=\"text-align: right;\">\n",
       "      <th></th>\n",
       "      <th>strike</th>\n",
       "      <th>strike_p</th>\n",
       "      <th>mid</th>\n",
       "      <th>mid_p</th>\n",
       "    </tr>\n",
       "  </thead>\n",
       "  <tbody>\n",
       "    <tr>\n",
       "      <th>0</th>\n",
       "      <td>31.0</td>\n",
       "      <td>30.0</td>\n",
       "      <td>4.15</td>\n",
       "      <td>0.5</td>\n",
       "    </tr>\n",
       "  </tbody>\n",
       "</table>\n",
       "</div>"
      ],
      "text/plain": [
       "   strike  strike_p   mid  mid_p\n",
       "0    31.0      30.0  4.15    0.5"
      ]
     },
     "execution_count": 15,
     "metadata": {},
     "output_type": "execute_result"
    }
   ],
   "source": [
    "pairs_list = []\n",
    "tol = 1.0  # strike difference tolerance\n",
    "for _, c in calls.iterrows():\n",
    "    # Find the put with the closest strike\n",
    "    diffs = (puts[\"strike\"] - c[\"strike\"]).abs()\n",
    "    best_idx = diffs.idxmin()\n",
    "    best_put = puts.loc[best_idx]\n",
    "    if abs(best_put[\"strike\"] - c[\"strike\"]) <= tol:\n",
    "        merged = c.to_dict()\n",
    "        merged.update({f\"{col}_p\": best_put[col] for col in puts.columns})\n",
    "        pairs_list.append(merged)\n",
    "\n",
    "pairs = pd.DataFrame(pairs_list)\n",
    "print(\"Pairs within ±1 strike:\", len(pairs))\n",
    "pairs[[\"strike\", \"strike_p\", \"mid\", \"mid_p\"]].head()\n"
   ]
  },
  {
   "cell_type": "code",
   "execution_count": 16,
   "id": "1979c40e-97d0-4888-97de-0739e796396a",
   "metadata": {},
   "outputs": [
    {
     "name": "stdout",
     "output_type": "stream",
     "text": [
      "ISF.L → pairs: 0\n",
      "EWU → pairs: 0\n",
      "USING: None | total exact-match pairs: 0\n"
     ]
    },
    {
     "ename": "KeyError",
     "evalue": "\"None of [Index(['expiry', 'strike', 'mid_c', 'mid_p', 'spread_c', 'spread_p'], dtype='object')] are in the [columns]\"",
     "output_type": "error",
     "traceback": [
      "\u001b[31m---------------------------------------------------------------------------\u001b[39m",
      "\u001b[31mKeyError\u001b[39m                                  Traceback (most recent call last)",
      "\u001b[36mCell\u001b[39m\u001b[36m \u001b[39m\u001b[32mIn[16]\u001b[39m\u001b[32m, line 74\u001b[39m\n\u001b[32m     72\u001b[39m pairs  = best_pairs\n\u001b[32m     73\u001b[39m \u001b[38;5;28mprint\u001b[39m(\u001b[33m\"\u001b[39m\u001b[33mUSING:\u001b[39m\u001b[33m\"\u001b[39m, picked, \u001b[33m\"\u001b[39m\u001b[33m| total exact-match pairs:\u001b[39m\u001b[33m\"\u001b[39m, \u001b[38;5;28mlen\u001b[39m(pairs))\n\u001b[32m---> \u001b[39m\u001b[32m74\u001b[39m \u001b[43mpairs\u001b[49m\u001b[43m[\u001b[49m\u001b[43m[\u001b[49m\u001b[33;43m\"\u001b[39;49m\u001b[33;43mexpiry\u001b[39;49m\u001b[33;43m\"\u001b[39;49m\u001b[43m,\u001b[49m\u001b[33;43m\"\u001b[39;49m\u001b[33;43mstrike\u001b[39;49m\u001b[33;43m\"\u001b[39;49m\u001b[43m,\u001b[49m\u001b[33;43m\"\u001b[39;49m\u001b[33;43mmid_c\u001b[39;49m\u001b[33;43m\"\u001b[39;49m\u001b[43m,\u001b[49m\u001b[33;43m\"\u001b[39;49m\u001b[33;43mmid_p\u001b[39;49m\u001b[33;43m\"\u001b[39;49m\u001b[43m,\u001b[49m\u001b[33;43m\"\u001b[39;49m\u001b[33;43mspread_c\u001b[39;49m\u001b[33;43m\"\u001b[39;49m\u001b[43m,\u001b[49m\u001b[33;43m\"\u001b[39;49m\u001b[33;43mspread_p\u001b[39;49m\u001b[33;43m\"\u001b[39;49m\u001b[43m]\u001b[49m\u001b[43m]\u001b[49m.head(\u001b[32m10\u001b[39m)\n",
      "\u001b[36mFile \u001b[39m\u001b[32m~\\Documents\\Projects\\ftse-options-efficiency-vol-forecasting\\venv311\\Lib\\site-packages\\pandas\\core\\frame.py:4119\u001b[39m, in \u001b[36mDataFrame.__getitem__\u001b[39m\u001b[34m(self, key)\u001b[39m\n\u001b[32m   4117\u001b[39m     \u001b[38;5;28;01mif\u001b[39;00m is_iterator(key):\n\u001b[32m   4118\u001b[39m         key = \u001b[38;5;28mlist\u001b[39m(key)\n\u001b[32m-> \u001b[39m\u001b[32m4119\u001b[39m     indexer = \u001b[38;5;28;43mself\u001b[39;49m\u001b[43m.\u001b[49m\u001b[43mcolumns\u001b[49m\u001b[43m.\u001b[49m\u001b[43m_get_indexer_strict\u001b[49m\u001b[43m(\u001b[49m\u001b[43mkey\u001b[49m\u001b[43m,\u001b[49m\u001b[43m \u001b[49m\u001b[33;43m\"\u001b[39;49m\u001b[33;43mcolumns\u001b[39;49m\u001b[33;43m\"\u001b[39;49m\u001b[43m)\u001b[49m[\u001b[32m1\u001b[39m]\n\u001b[32m   4121\u001b[39m \u001b[38;5;66;03m# take() does not accept boolean indexers\u001b[39;00m\n\u001b[32m   4122\u001b[39m \u001b[38;5;28;01mif\u001b[39;00m \u001b[38;5;28mgetattr\u001b[39m(indexer, \u001b[33m\"\u001b[39m\u001b[33mdtype\u001b[39m\u001b[33m\"\u001b[39m, \u001b[38;5;28;01mNone\u001b[39;00m) == \u001b[38;5;28mbool\u001b[39m:\n",
      "\u001b[36mFile \u001b[39m\u001b[32m~\\Documents\\Projects\\ftse-options-efficiency-vol-forecasting\\venv311\\Lib\\site-packages\\pandas\\core\\indexes\\base.py:6212\u001b[39m, in \u001b[36mIndex._get_indexer_strict\u001b[39m\u001b[34m(self, key, axis_name)\u001b[39m\n\u001b[32m   6209\u001b[39m \u001b[38;5;28;01melse\u001b[39;00m:\n\u001b[32m   6210\u001b[39m     keyarr, indexer, new_indexer = \u001b[38;5;28mself\u001b[39m._reindex_non_unique(keyarr)\n\u001b[32m-> \u001b[39m\u001b[32m6212\u001b[39m \u001b[38;5;28;43mself\u001b[39;49m\u001b[43m.\u001b[49m\u001b[43m_raise_if_missing\u001b[49m\u001b[43m(\u001b[49m\u001b[43mkeyarr\u001b[49m\u001b[43m,\u001b[49m\u001b[43m \u001b[49m\u001b[43mindexer\u001b[49m\u001b[43m,\u001b[49m\u001b[43m \u001b[49m\u001b[43maxis_name\u001b[49m\u001b[43m)\u001b[49m\n\u001b[32m   6214\u001b[39m keyarr = \u001b[38;5;28mself\u001b[39m.take(indexer)\n\u001b[32m   6215\u001b[39m \u001b[38;5;28;01mif\u001b[39;00m \u001b[38;5;28misinstance\u001b[39m(key, Index):\n\u001b[32m   6216\u001b[39m     \u001b[38;5;66;03m# GH 42790 - Preserve name from an Index\u001b[39;00m\n",
      "\u001b[36mFile \u001b[39m\u001b[32m~\\Documents\\Projects\\ftse-options-efficiency-vol-forecasting\\venv311\\Lib\\site-packages\\pandas\\core\\indexes\\base.py:6261\u001b[39m, in \u001b[36mIndex._raise_if_missing\u001b[39m\u001b[34m(self, key, indexer, axis_name)\u001b[39m\n\u001b[32m   6259\u001b[39m \u001b[38;5;28;01mif\u001b[39;00m nmissing:\n\u001b[32m   6260\u001b[39m     \u001b[38;5;28;01mif\u001b[39;00m nmissing == \u001b[38;5;28mlen\u001b[39m(indexer):\n\u001b[32m-> \u001b[39m\u001b[32m6261\u001b[39m         \u001b[38;5;28;01mraise\u001b[39;00m \u001b[38;5;167;01mKeyError\u001b[39;00m(\u001b[33mf\u001b[39m\u001b[33m\"\u001b[39m\u001b[33mNone of [\u001b[39m\u001b[38;5;132;01m{\u001b[39;00mkey\u001b[38;5;132;01m}\u001b[39;00m\u001b[33m] are in the [\u001b[39m\u001b[38;5;132;01m{\u001b[39;00maxis_name\u001b[38;5;132;01m}\u001b[39;00m\u001b[33m]\u001b[39m\u001b[33m\"\u001b[39m)\n\u001b[32m   6263\u001b[39m     not_found = \u001b[38;5;28mlist\u001b[39m(ensure_index(key)[missing_mask.nonzero()[\u001b[32m0\u001b[39m]].unique())\n\u001b[32m   6264\u001b[39m     \u001b[38;5;28;01mraise\u001b[39;00m \u001b[38;5;167;01mKeyError\u001b[39;00m(\u001b[33mf\u001b[39m\u001b[33m\"\u001b[39m\u001b[38;5;132;01m{\u001b[39;00mnot_found\u001b[38;5;132;01m}\u001b[39;00m\u001b[33m not in index\u001b[39m\u001b[33m\"\u001b[39m)\n",
      "\u001b[31mKeyError\u001b[39m: \"None of [Index(['expiry', 'strike', 'mid_c', 'mid_p', 'spread_c', 'spread_p'], dtype='object')] are in the [columns]\""
     ]
    }
   ],
   "source": [
    "import pandas as pd, numpy as np, yfinance as yf\n",
    "from pathlib import Path\n",
    "\n",
    "def fetch_pairs_exact(symbol, max_exp=20):\n",
    "    tk = yf.Ticker(symbol)\n",
    "    exps = sorted(tk.options)[:max_exp]\n",
    "    all_pairs = []\n",
    "\n",
    "    # spot (robust to MultiIndex)\n",
    "    hist = yf.download(symbol, period=\"5d\", auto_adjust=True, progress=False)\n",
    "    close = hist[\"Close\"][symbol] if isinstance(hist.columns, pd.MultiIndex) else hist[\"Close\"]\n",
    "    S = float(close.iloc[-1])\n",
    "    today = pd.Timestamp.today().normalize()\n",
    "\n",
    "    for ex in exps:\n",
    "        ch = tk.option_chain(ex)\n",
    "        for df, typ in [(ch.calls, \"call\"), (ch.puts, \"put\")]:\n",
    "            df[\"option_type\"] = typ\n",
    "            df[\"expiry\"] = pd.to_datetime(ex)\n",
    "\n",
    "        calls = ch.calls[[\"contractSymbol\",\"lastPrice\",\"bid\",\"ask\",\"openInterest\",\"impliedVolatility\",\"strike\"]].copy()\n",
    "        puts  = ch.puts[ [\"contractSymbol\",\"lastPrice\",\"bid\",\"ask\",\"openInterest\",\"impliedVolatility\",\"strike\"]].copy()\n",
    "        calls.rename(columns={\"lastPrice\":\"last\",\"openInterest\":\"oi\",\"impliedVolatility\":\"iv\"}, inplace=True)\n",
    "        puts.rename (columns={\"lastPrice\":\"last\",\"openInterest\":\"oi\",\"impliedVolatility\":\"iv\"}, inplace=True)\n",
    "        calls[\"expiry\"] = pd.to_datetime(ex); puts[\"expiry\"] = pd.to_datetime(ex)\n",
    "\n",
    "        # exact common strikes only\n",
    "        common = np.intersect1d(calls[\"strike\"].values, puts[\"strike\"].values)\n",
    "        if common.size == 0: \n",
    "            continue\n",
    "        calls_ = calls[calls[\"strike\"].isin(common)].copy()\n",
    "        puts_  = puts [puts [\"strike\"].isin(common)].copy()\n",
    "\n",
    "        # mids & basic filters\n",
    "        for df in (calls_, puts_):\n",
    "            df[\"mid\"] = (df[\"bid\"].fillna(0) + df[\"ask\"].fillna(0))/2\n",
    "            df[\"spread\"] = (df[\"ask\"] - df[\"bid\"]).abs()\n",
    "        calls_ = calls_[(calls_[\"mid\"]>0) & (calls_[\"bid\"].notna()) & (calls_[\"ask\"].notna())]\n",
    "        puts_  = puts_ [(puts_ [\"mid\"]>0) & (puts_ [\"bid\"].notna()) & (puts_ [\"ask\"].notna())]\n",
    "\n",
    "        if len(calls_)==0 or len(puts_)==0: \n",
    "            continue\n",
    "\n",
    "        pairs = pd.merge(calls_, puts_, on=[\"expiry\",\"strike\"], suffixes=(\"_c\",\"_p\"), how=\"inner\")\n",
    "        if len(pairs)==0: \n",
    "            continue\n",
    "\n",
    "        pairs[\"S\"] = S\n",
    "        pairs[\"trade_date\"] = today\n",
    "        pairs[\"T_days\"] = (pairs[\"expiry\"] - today).dt.days.clip(lower=0)\n",
    "        pairs[\"T\"] = pairs[\"T_days\"]/365.0\n",
    "\n",
    "        all_pairs.append(pairs)\n",
    "\n",
    "    if not all_pairs:\n",
    "        return pd.DataFrame()\n",
    "    out = pd.concat(all_pairs, ignore_index=True)\n",
    "\n",
    "    # quality screen (loose first; tighten later in Part C)\n",
    "    out = out[(out[\"T_days\"]>=3)]\n",
    "    return out\n",
    "\n",
    "candidates = [\"ISF.L\",\"EWU\"]\n",
    "best_symbol, best_pairs = None, pd.DataFrame()\n",
    "for sym in candidates:\n",
    "    p = fetch_pairs_exact(sym, max_exp=20)\n",
    "    print(sym, \"→ pairs:\", len(p))\n",
    "    if len(p) > len(best_pairs):\n",
    "        best_symbol, best_pairs = sym, p\n",
    "\n",
    "picked = best_symbol\n",
    "pairs  = best_pairs\n",
    "print(\"USING:\", picked, \"| total exact-match pairs:\", len(pairs))\n",
    "pairs[[\"expiry\",\"strike\",\"mid_c\",\"mid_p\",\"spread_c\",\"spread_p\"]].head(10)\n"
   ]
  },
  {
   "cell_type": "code",
   "execution_count": 17,
   "id": "8ae50522-b3ae-4ca6-97ac-b80704a86d91",
   "metadata": {},
   "outputs": [
    {
     "name": "stdout",
     "output_type": "stream",
     "text": [
      "Saved to:\n",
      "data\\processed\\opt_snapshot_None.parquet\n",
      "data\\processed\\pairs_snapshot_None.parquet\n"
     ]
    }
   ],
   "source": [
    "from pathlib import Path\n",
    "import pandas as pd\n",
    "\n",
    "save_dir = Path(\"data/processed\")\n",
    "save_dir.mkdir(parents=True, exist_ok=True)\n",
    "\n",
    "opt_path = save_dir / f\"opt_snapshot_{picked}.parquet\"\n",
    "pairs_path = save_dir / f\"pairs_snapshot_{picked}.parquet\"\n",
    "\n",
    "opt.to_parquet(opt_path, index=False, engine=\"pyarrow\")\n",
    "pairs.to_parquet(pairs_path, index=False, engine=\"pyarrow\")\n",
    "\n",
    "print(\"Saved to:\")\n",
    "print(opt_path)\n",
    "print(pairs_path)\n"
   ]
  },
  {
   "cell_type": "code",
   "execution_count": 18,
   "id": "77c45585-69ea-4eef-94b0-13267f2c7b40",
   "metadata": {},
   "outputs": [
    {
     "name": "stdout",
     "output_type": "stream",
     "text": [
      "Environment saved to requirements.txt\n"
     ]
    }
   ],
   "source": [
    "!pip freeze > requirements.txt\n",
    "print(\"Environment saved to requirements.txt\")\n"
   ]
  },
  {
   "cell_type": "code",
   "execution_count": null,
   "id": "a6e8253a-b73d-4678-8446-4a9aefb0d8c9",
   "metadata": {},
   "outputs": [],
   "source": []
  }
 ],
 "metadata": {
  "kernelspec": {
   "display_name": "Python (ftseopt 3.11)",
   "language": "python",
   "name": "ftseopt311"
  },
  "language_info": {
   "codemirror_mode": {
    "name": "ipython",
    "version": 3
   },
   "file_extension": ".py",
   "mimetype": "text/x-python",
   "name": "python",
   "nbconvert_exporter": "python",
   "pygments_lexer": "ipython3",
   "version": "3.11.0"
  }
 },
 "nbformat": 4,
 "nbformat_minor": 5
}
